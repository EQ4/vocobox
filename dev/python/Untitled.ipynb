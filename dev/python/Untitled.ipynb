{
 "cells": [
  {
   "cell_type": "code",
   "execution_count": 1,
   "metadata": {
    "collapsed": false
   },
   "outputs": [
    {
     "ename": "ImportError",
     "evalue": "No module named essentia",
     "output_type": "error",
     "traceback": [
      "\u001b[0;31m---------------------------------------------------------------------------\u001b[0m",
      "\u001b[0;31mImportError\u001b[0m                               Traceback (most recent call last)",
      "\u001b[0;32m<ipython-input-1-41e48f9d70e6>\u001b[0m in \u001b[0;36m<module>\u001b[0;34m()\u001b[0m\n\u001b[1;32m      1\u001b[0m \u001b[0;34m\u001b[0m\u001b[0m\n\u001b[0;32m----> 2\u001b[0;31m \u001b[0;32mimport\u001b[0m \u001b[0messentia\u001b[0m\u001b[0;34m\u001b[0m\u001b[0m\n\u001b[0m\u001b[1;32m      3\u001b[0m \u001b[0;34m\u001b[0m\u001b[0m\n\u001b[1;32m      4\u001b[0m \u001b[0;31m# as there are 2 operating modes in essentia which have the same algorithms,\u001b[0m\u001b[0;34m\u001b[0m\u001b[0;34m\u001b[0m\u001b[0m\n\u001b[1;32m      5\u001b[0m \u001b[0;31m# these latter are dispatched into 2 submodules:\u001b[0m\u001b[0;34m\u001b[0m\u001b[0;34m\u001b[0m\u001b[0m\n",
      "\u001b[0;31mImportError\u001b[0m: No module named essentia"
     ]
    }
   ],
   "source": [
    "\n",
    "import essentia\n",
    "\n",
    "# as there are 2 operating modes in essentia which have the same algorithms,\n",
    "# these latter are dispatched into 2 submodules:\n",
    "\n",
    "import essentia.standard\n",
    "import essentia.streaming\n",
    "\n",
    "# let's have a look at what is in there\n",
    "\n",
    "print dir(essentia.standard)\n",
    "\n",
    "loader = essentia.standard.MonoLoader(filename = '/Users/martin/doremi-mono.wav')\n",
    "\n",
    "\n",
    "# and then we actually perform the loading:\n",
    "audio = loader()\n",
    "\n",
    "# by default, the MonoLoader will output audio with 44100Hz samplerate\n",
    "\n",
    "# pylab contains the plot() function, as well as figure, etc... (same names as Matlab)\n",
    "#from pylab import * #import plot, show, figure\n",
    "import pylab\n",
    "\n",
    "#import pylab\n",
    "pylab.plot(audio[1*44100:2*44100])\n",
    "pylab.show() # unnecessary if you started \"ipython --pylab\""
   ]
  },
  {
   "cell_type": "code",
   "execution_count": null,
   "metadata": {
    "collapsed": true
   },
   "outputs": [],
   "source": []
  }
 ],
 "metadata": {
  "kernelspec": {
   "display_name": "Python 2",
   "language": "python",
   "name": "python2"
  },
  "language_info": {
   "codemirror_mode": {
    "name": "ipython",
    "version": 2
   },
   "file_extension": ".py",
   "mimetype": "text/x-python",
   "name": "python",
   "nbconvert_exporter": "python",
   "pygments_lexer": "ipython2",
   "version": "2.7.10"
  }
 },
 "nbformat": 4,
 "nbformat_minor": 0
}
